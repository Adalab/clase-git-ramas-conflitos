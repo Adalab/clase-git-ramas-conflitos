{
 "cells": [
  {
   "cell_type": "code",
   "execution_count": 1,
   "metadata": {},
   "outputs": [],
   "source": [
    "nombre = \"maria\"\n",
    "edad = 35\n",
    "trabajo = \"programadora\"\n",
    "altura = 165\n",
    "pais = \"españa\"\n",
    "ciudad = \"madrid\"\n"
   ]
  },
  {
   "cell_type": "code",
   "execution_count": 2,
   "metadata": {},
   "outputs": [
    {
     "name": "stdout",
     "output_type": "stream",
     "text": [
      "Bienvenida Maria\n"
     ]
    }
   ],
   "source": [
    "if nombre == \"maria\" and edad == 35:\n",
    "    print(\"Bienvenida Maria\")\n",
    "else:\n",
    "    print(\"No eres Maria\")"
   ]
  },
  {
   "cell_type": "code",
   "execution_count": 1,
   "metadata": {},
   "outputs": [],
   "source": [
    "# importamos la pandas para poder trabajar en la lección\n",
    "import pandas as pd"
   ]
  },
  {
   "cell_type": "code",
   "execution_count": 2,
   "metadata": {},
   "outputs": [
    {
     "name": "stdout",
     "output_type": "stream",
     "text": [
      "mi serie de pandas es: Series([], dtype: float64)\n",
      "los tipos de elementos que la componen son: float64\n"
     ]
    },
    {
     "name": "stderr",
     "output_type": "stream",
     "text": [
      "/var/folders/cr/f3dqyy756z9ftxxsrmgtgjjh0000gn/T/ipykernel_48758/4036281091.py:3: DeprecationWarning: The default dtype for empty Series will be 'object' instead of 'float64' in a future version. Specify a dtype explicitly to silence this warning.\n",
      "  serie_vacia = pd.Series()\n"
     ]
    }
   ],
   "source": [
    "# Creemos algunas Series en Pandas para entenderlas mejor.\n",
    "# en este primer ejemplo crearemos una Serie vacía\n",
    "serie_vacia = pd.Series()\n",
    "print(\"mi serie de pandas es:\",serie_vacia)\n",
    "print(\"los tipos de elementos que la componen son:\",serie_vacia.dtype)"
   ]
  },
  {
   "cell_type": "code",
   "execution_count": 3,
   "metadata": {},
   "outputs": [
    {
     "data": {
      "text/plain": [
       "0    23\n",
       "1    45\n",
       "2    17\n",
       "3    83\n",
       "4    67\n",
       "dtype: int64"
      ]
     },
     "execution_count": 3,
     "metadata": {},
     "output_type": "execute_result"
    }
   ],
   "source": [
    "# esta Serie esta bien, pero en realidad por lo general queremos tener Series con datos\n",
    "# creemos ahora una serie a partir de una lista\n",
    "\n",
    "# definimos la lista\n",
    "lista = [23, 45, 17, 83, 67]\n",
    "\n",
    "# convertimos esta lista en una Serie\n",
    "serie_lista1 = pd.Series(lista)\n",
    "serie_lista1"
   ]
  }
 ],
 "metadata": {
  "kernelspec": {
   "display_name": "Python 3",
   "language": "python",
   "name": "python3"
  },
  "language_info": {
   "codemirror_mode": {
    "name": "ipython",
    "version": 3
   },
   "file_extension": ".py",
   "mimetype": "text/x-python",
   "name": "python",
   "nbconvert_exporter": "python",
   "pygments_lexer": "ipython3",
   "version": "3.9.7"
  }
 },
 "nbformat": 4,
 "nbformat_minor": 2
}
