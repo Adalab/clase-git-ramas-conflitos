{
 "cells": [
  {
   "cell_type": "code",
   "execution_count": 1,
   "metadata": {},
   "outputs": [],
   "source": [
    "nombre = \"maria\"\n",
    "edad = 35\n",
    "trabajo = \"programadora\"\n",
    "altura = 165\n",
    "pais = \"españa\"\n",
    "ciudad = \"madrid\"\n"
   ]
  },
  {
   "cell_type": "code",
   "execution_count": 2,
   "metadata": {},
   "outputs": [
    {
     "name": "stdout",
     "output_type": "stream",
     "text": [
      "Bienvenida Maria\n"
     ]
    }
   ],
   "source": [
    "if nombre == \"maria\" and edad == 35:\n",
    "    print(\"Bienvenida Maria\")\n",
    "elif nombre == \"elena\":\n",
    "    print(\"Hola Elena\")\n"
   ]
  }
 ],
 "metadata": {
  "kernelspec": {
   "display_name": "Python 3",
   "language": "python",
   "name": "python3"
  },
  "language_info": {
   "codemirror_mode": {
    "name": "ipython",
    "version": 3
   },
   "file_extension": ".py",
   "mimetype": "text/x-python",
   "name": "python",
   "nbconvert_exporter": "python",
   "pygments_lexer": "ipython3",
   "version": "3.9.6"
  }
 },
 "nbformat": 4,
 "nbformat_minor": 2
}
