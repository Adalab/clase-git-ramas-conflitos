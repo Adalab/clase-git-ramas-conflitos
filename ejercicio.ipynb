{
 "cells": [
  {
   "cell_type": "code",
   "execution_count": 1,
   "metadata": {},
   "outputs": [],
   "source": [
    "nombre = \"maria\"\n",
    "edad = 35\n",
    "trabajo = \"programadora\"\n",
    "altura = 165\n",
    "ciudad = \"madrid\"\n"
   ]
  },
  {
   "cell_type": "code",
   "execution_count": 2,
   "metadata": {},
   "outputs": [
    {
     "name": "stdout",
     "output_type": "stream",
     "text": [
      "Bienvenida Maria\n"
     ]
    }
   ],
   "source": [
    "if nombre == \"maria\" and edad == 35:\n",
    "    print(\"Bienvenida Maria\")"
   ]
  },
  {
   "cell_type": "code",
   "execution_count": 4,
   "metadata": {},
   "outputs": [
    {
     "data": {
      "text/plain": [
       "lorena    10\n",
       "marta     20\n",
       "pilar     30\n",
       "laura     50\n",
       "ana       86\n",
       "maria     28\n",
       "dtype: int64"
      ]
     },
     "execution_count": 4,
     "metadata": {},
     "output_type": "execute_result"
    }
   ],
   "source": [
    "# definir un diccionario \n",
    "dicc = {'lorena' : 10, \n",
    "        'marta' : 20, \n",
    "        'pilar' : 30, \n",
    "        'laura': 50, \n",
    "       'ana': 86, \n",
    "        'maria': 28} \n",
    "\n",
    "# crear una serie nueva a partir del diccionario definido previamente\n",
    "serie_diccionario = pd.Series(dicc)\n",
    "serie_diccionario"
   ]
  }
 ],
 "metadata": {
  "kernelspec": {
   "display_name": "Python 3",
   "language": "python",
   "name": "python3"
  },
  "language_info": {
   "codemirror_mode": {
    "name": "ipython",
    "version": 3
   },
   "file_extension": ".py",
   "mimetype": "text/x-python",
   "name": "python",
   "nbconvert_exporter": "python",
   "pygments_lexer": "ipython3",
   "version": "3.9.6"
  }
 },
 "nbformat": 4,
 "nbformat_minor": 2
}
