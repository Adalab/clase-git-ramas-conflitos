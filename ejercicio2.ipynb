{
 "cells": [
  {
   "cell_type": "code",
   "execution_count": null,
   "metadata": {},
   "outputs": [],
   "source": [
    "def sumar(a,b):\n",
    "    return a+b"
   ]
  },
  {
   "cell_type": "code",
   "execution_count": null,
   "metadata": {},
   "outputs": [],
   "source": [
    "# definimos una lista de diccionarios que luego usaremos para convertir en DataFrame\n",
    "data_lista = [\n",
    "    {'Nombre': 'Ana', 'Edad': 25, 'Ciudad': 'Madrid'},\n",
    "    {'Nombre': 'Juan', 'Edad': 30, 'Ciudad': 'Barcelona'},\n",
    "    {'Nombre': 'María', 'Edad': 28, 'Ciudad': 'Valencia'},\n",
    "    {'Nombre': 'Pedro', 'Edad': 35, 'Ciudad': 'Sevilla'}\n",
    "]\n",
    "\n",
    "# usamos el método 'pd.DataFrame' para convertir la lista de diccionarios a DataFrame\n",
    "df_lista = pd.DataFrame(data_lista)\n",
    "\n",
    "# mostramos el DataFrame, en este caso usaremos el método '.tail()' para mostrar las últimas 5 filas. \n",
    "df_lista.tail()"
   ]
  }
 ],
 "metadata": {
  "language_info": {
   "name": "python"
  }
 },
 "nbformat": 4,
 "nbformat_minor": 2
}
